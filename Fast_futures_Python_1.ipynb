{
  "nbformat": 4,
  "nbformat_minor": 0,
  "metadata": {
    "colab": {
      "provenance": [],
      "authorship_tag": "ABX9TyMhOz+gjpnrK5ca2AH+Rm73",
      "include_colab_link": true
    },
    "kernelspec": {
      "name": "python3",
      "display_name": "Python 3"
    },
    "language_info": {
      "name": "python"
    }
  },
  "cells": [
    {
      "cell_type": "markdown",
      "metadata": {
        "id": "view-in-github",
        "colab_type": "text"
      },
      "source": [
        "<a href=\"https://colab.research.google.com/github/med0504/Python-Fastfutures/blob/main/Fast_futures_Python_1.ipynb\" target=\"_parent\"><img src=\"https://colab.research.google.com/assets/colab-badge.svg\" alt=\"Open In Colab\"/></a>"
      ]
    },
    {
      "cell_type": "code",
      "execution_count": null,
      "metadata": {
        "colab": {
          "base_uri": "https://localhost:8080/"
        },
        "id": "VruBsZoHOe-5",
        "outputId": "25a77c58-ac9f-49bb-82c0-3474fb3a28d5"
      },
      "outputs": [
        {
          "output_type": "stream",
          "name": "stdout",
          "text": [
            "DAS WARUDO\n"
          ]
        }
      ],
      "source": [
        "print(\"DAS WARUDO\")"
      ]
    },
    {
      "cell_type": "markdown",
      "source": [
        "Getting started in **Python**"
      ],
      "metadata": {
        "id": "6k4m25wcPx-F"
      }
    },
    {
      "cell_type": "code",
      "source": [
        "(1+1 - 2 *6 /2 ) * -18"
      ],
      "metadata": {
        "colab": {
          "base_uri": "https://localhost:8080/"
        },
        "id": "-O451-uWRYMD",
        "outputId": "16cfdaa6-4458-42e4-94ba-99ef00fa958f"
      },
      "execution_count": null,
      "outputs": [
        {
          "output_type": "execute_result",
          "data": {
            "text/plain": [
              "72.0"
            ]
          },
          "metadata": {},
          "execution_count": 15
        }
      ]
    },
    {
      "cell_type": "code",
      "source": [
        "print(\"DA WARUDO\") #JOJO!"
      ],
      "metadata": {
        "id": "3V-IvKYpUudg"
      },
      "execution_count": null,
      "outputs": []
    },
    {
      "cell_type": "markdown",
      "source": [
        "IT IS ME **DIO!**"
      ],
      "metadata": {
        "id": "SUL12qN6UyR_"
      }
    },
    {
      "cell_type": "code",
      "source": [
        "x = {\"Apple\": 1, \"Mango\": 2, \"Bannana\": 4}\n",
        "\n",
        "type(x)"
      ],
      "metadata": {
        "colab": {
          "base_uri": "https://localhost:8080/"
        },
        "id": "LPWX9CsKUurR",
        "outputId": "7164c904-e3e7-4661-d067-22b6f5534506"
      },
      "execution_count": null,
      "outputs": [
        {
          "output_type": "execute_result",
          "data": {
            "text/plain": [
              "dict"
            ]
          },
          "metadata": {},
          "execution_count": 24
        }
      ]
    },
    {
      "cell_type": "code",
      "source": [],
      "metadata": {
        "id": "AvOy3eRbdQuH"
      },
      "execution_count": null,
      "outputs": []
    },
    {
      "cell_type": "code",
      "source": [
        "print(x)"
      ],
      "metadata": {
        "colab": {
          "base_uri": "https://localhost:8080/"
        },
        "id": "zPQgklkgb_x0",
        "outputId": "076170f5-ed36-4afa-da53-975ba44d724c"
      },
      "execution_count": null,
      "outputs": [
        {
          "output_type": "stream",
          "name": "stdout",
          "text": [
            "{'Apple': 1, 'Mango': 2, 'Bannana': 4}\n"
          ]
        }
      ]
    },
    {
      "cell_type": "code",
      "source": [
        "country_name = \"United Kingdom\"\n",
        "trading_bloc = \"EU\"\n",
        "pop = 80213077.445"
      ],
      "metadata": {
        "id": "76TjKt-xdRaP"
      },
      "execution_count": null,
      "outputs": []
    },
    {
      "cell_type": "code",
      "source": [
        "print(\n",
        "    len(country_name),\n",
        "    type(pop)\n",
        ")"
      ],
      "metadata": {
        "colab": {
          "base_uri": "https://localhost:8080/"
        },
        "id": "dglWM4u6dSM-",
        "outputId": "158abc87-5ce8-420b-8c8f-50fc7d02392a"
      },
      "execution_count": null,
      "outputs": [
        {
          "output_type": "stream",
          "name": "stdout",
          "text": [
            "14 <class 'int'>\n"
          ]
        }
      ]
    },
    {
      "cell_type": "code",
      "source": [
        "print(round((pop), 2))"
      ],
      "metadata": {
        "colab": {
          "base_uri": "https://localhost:8080/"
        },
        "id": "uenmv3gifJlw",
        "outputId": "52cb9d83-2614-4a74-9a2a-adcd529f4235"
      },
      "execution_count": null,
      "outputs": [
        {
          "output_type": "stream",
          "name": "stdout",
          "text": [
            "80213077.44\n"
          ]
        }
      ]
    },
    {
      "cell_type": "code",
      "source": [
        "lol = \"There are currently 3 people \\n who can be seen as \\\"smart\\\"\"\n",
        "print(lol)\n",
        "\n",
        "lol[18]  #Strings can be indexed by location like normal arrays, start from 0, spaces are included\n",
        "lol_1 = lol[:10] #String slicing \n",
        "print(\"Slcing pt 1\\n\",lol_1)\n",
        "lol_2 = lol[10:]\n",
        "print(\"Slicing part 2\\n\", lol_2)\n",
        "lol_3 = lol[::10] #every 10th character\n",
        "print(\"Slicing part 3\\n\", lol_3)\n",
        "print(\"Slicing part 4\\n\", lol[::-1]) #Wriie everything in reverse\n"
      ],
      "metadata": {
        "colab": {
          "base_uri": "https://localhost:8080/"
        },
        "id": "o-Tm5xlhf7A6",
        "outputId": "bd073295-f81c-4199-b9b6-868946bad161"
      },
      "execution_count": null,
      "outputs": [
        {
          "output_type": "stream",
          "name": "stdout",
          "text": [
            "There are currently 3 people \n",
            " who can be seen as \"smart\"\n",
            "Slcing pt 1\n",
            " There are \n",
            "Slicing part 2\n",
            " currently 3 people \n",
            " who can be seen as \"smart\"\n",
            "Slicing part 3\n",
            " Tc3 e\"\n",
            "Slicing part 4\n",
            " \"trams\" sa nees eb nac ohw \n",
            " elpoep 3 yltnerruc era erehT\n"
          ]
        }
      ]
    },
    {
      "cell_type": "code",
      "source": [
        "#Strings can be concentated example\n",
        "lol_supreme = \"HEHEHEHE \\n But I am the smartest of them all muahahahaha. \\n All according to my Keikaku\"\n",
        "\n",
        "print(lol + \"\\n\" + lol_supreme)\n",
        "\n",
        "#works with numbers\n",
        "\n",
        "area_code = \"+44\"\n",
        "phone_number = \"7475868265\\n\"\n",
        "\n",
        "UK_phone = area_code + phone_number\n",
        "\n",
        "print(UK_phone*4) # works with multiplication"
      ],
      "metadata": {
        "colab": {
          "base_uri": "https://localhost:8080/"
        },
        "id": "B5rLhcT_ksgs",
        "outputId": "ee9a89a4-83f0-4323-a93f-680b9a159c4c"
      },
      "execution_count": null,
      "outputs": [
        {
          "output_type": "stream",
          "name": "stdout",
          "text": [
            "There are currently 3 people \n",
            " who can be seen as \"smart\"\n",
            "HEHEHEHE \n",
            " But I am the smartest of them all muahahahaha. \n",
            " All according to my kekkuku\n",
            "+447475868265\n",
            "+447475868265\n",
            "+447475868265\n",
            "+447475868265\n",
            "\n"
          ]
        }
      ]
    },
    {
      "cell_type": "code",
      "source": [
        "mystring = \"Hello world, I am Mo's laptop, I am sentient.\"\n",
        "mystring.capitalize() # Makes first word capitlaised and others lower\n",
        "mystring.find(\"e\") #finds letter e\n",
        "mystring.count(\"l\") # How many L's are there\n",
        "mystring.upper() # Capitalise everything\n",
        "mystring.split(\",\") # Split sentence by comma"
      ],
      "metadata": {
        "colab": {
          "base_uri": "https://localhost:8080/"
        },
        "id": "0k16obEltocc",
        "outputId": "63f525a7-8ffe-4ec2-b8a5-c5bc3c5f3680"
      },
      "execution_count": null,
      "outputs": [
        {
          "output_type": "execute_result",
          "data": {
            "text/plain": [
              "['Hello world', \" I am Mo's laptop\", ' I am sentient.']"
            ]
          },
          "metadata": {},
          "execution_count": 24
        }
      ]
    },
    {
      "cell_type": "code",
      "source": [
        "\n",
        "myphone = \"My phone number is {}\" # You can add numbers in the form of strings or just numbers into strings where the curly brackets are. using the format function seen below\n",
        "Home_phone = 1322284756\n",
        "\n",
        "print(myphone.format(Home_phone))\n",
        "\n",
        "shopping = \"I need {} apples, {} banana and {}kg flour from the store today! \\n Make sure you give me my money\"\n",
        "apples = 5\n",
        "banana = 10\n",
        "flour = 10\n",
        "print(shopping.format(apples, banana, flour))"
      ],
      "metadata": {
        "colab": {
          "base_uri": "https://localhost:8080/"
        },
        "id": "T3--Sn0AwuoG",
        "outputId": "df1979cb-5874-4296-d630-fcaf69f527e4"
      },
      "execution_count": null,
      "outputs": [
        {
          "output_type": "stream",
          "name": "stdout",
          "text": [
            "My phone number is 1322284756\n",
            "I need 5 apples, 10 banana and 10kg flour from the store today! \n",
            " Make sure you give me my money\n"
          ]
        }
      ]
    },
    {
      "cell_type": "code",
      "source": [
        "shopping_1 = \"I need {d} apples, {e} banana and {f}kg flour from the store today! \\n Make sure you give me my money\"\n",
        "apples = 5\n",
        "banana = 10\n",
        "flour = 10\n",
        "print(shopping_1.format(d=apples,e=banana,f=flour))"
      ],
      "metadata": {
        "colab": {
          "base_uri": "https://localhost:8080/"
        },
        "id": "09jSHb241lth",
        "outputId": "196661ec-8206-45c6-b3b2-9f19c85acefa"
      },
      "execution_count": null,
      "outputs": [
        {
          "output_type": "stream",
          "name": "stdout",
          "text": [
            "I need 5 apples, 10 banana and 10kg flour from the store today! \n",
            " Make sure you give me my money\n"
          ]
        }
      ]
    },
    {
      "cell_type": "code",
      "source": [
        "shopping_2 = \"I need {2} apples, {1} banana and {0}kg flour from the store today! \\n Make sure you give me my money\"\n",
        "apples = 5\n",
        "banana = 10\n",
        "flour = 10\n",
        "print(shopping_2.format(flour, banana, apples))"
      ],
      "metadata": {
        "colab": {
          "base_uri": "https://localhost:8080/"
        },
        "id": "RW3sYpSy2uF7",
        "outputId": "b42cefe6-506a-49e6-96e9-ca5944d72fdd"
      },
      "execution_count": null,
      "outputs": [
        {
          "output_type": "stream",
          "name": "stdout",
          "text": [
            "I need 5 apples, 10 banana and 10kg flour from the store today! \n",
            " Make sure you give me my money\n"
          ]
        }
      ]
    },
    {
      "cell_type": "code",
      "source": [
        "# We can also use % as a placeholder in strings %s for strings %d for digits %f for floating\n",
        "\n",
        "print(\"I am running out of %s to say\" %(\"words\"))\n",
        "M"
      ],
      "metadata": {
        "colab": {
          "base_uri": "https://localhost:8080/"
        },
        "id": "S84aQ9i4425C",
        "outputId": "e403856a-0589-4629-f5fe-99a1c9fdf592"
      },
      "execution_count": null,
      "outputs": [
        {
          "output_type": "stream",
          "name": "stdout",
          "text": [
            "I am running out of words to say\n"
          ]
        }
      ]
    },
    {
      "cell_type": "code",
      "source": [
        "POS = 18\n",
        "while POS == int(POS) :\n",
        "  print(POS)\n",
        "  if POS>0:\n",
        "    print(\"The number is postive\")\n",
        "    POS = POS - 8\n",
        "  elif POS<0:\n",
        "    print(\"The number is negative\")\n",
        "    POS = POS + 2\n",
        "  else:\n",
        "    print(\"The number is zero\") \n",
        "    break\n",
        "  \n"
      ],
      "metadata": {
        "colab": {
          "base_uri": "https://localhost:8080/"
        },
        "id": "4lXLEuo8ChHH",
        "outputId": "d3b79253-a647-4e77-d3a0-ab92f58ad711"
      },
      "execution_count": null,
      "outputs": [
        {
          "output_type": "stream",
          "name": "stdout",
          "text": [
            "18\n",
            "The number is postive\n",
            "10\n",
            "The number is postive\n",
            "2\n",
            "The number is postive\n",
            "-6\n",
            "The number is negative\n",
            "-4\n",
            "The number is negative\n",
            "-2\n",
            "The number is negative\n",
            "0\n",
            "The number is zero\n"
          ]
        }
      ]
    },
    {
      "cell_type": "code",
      "source": [
        "for i in range(0,11):\n",
        "  print(\"This is the {}th iteration\".format(i))\n",
        "print(\"We are now finished\")"
      ],
      "metadata": {
        "colab": {
          "base_uri": "https://localhost:8080/"
        },
        "id": "9dTbyPeuGHjL",
        "outputId": "1f670146-71c8-4167-fc3a-0a22453cb5fd"
      },
      "execution_count": null,
      "outputs": [
        {
          "output_type": "stream",
          "name": "stdout",
          "text": [
            "This is the 0th iteration\n",
            "This is the 1th iteration\n",
            "This is the 2th iteration\n",
            "This is the 3th iteration\n",
            "This is the 4th iteration\n",
            "This is the 5th iteration\n",
            "This is the 6th iteration\n",
            "This is the 7th iteration\n",
            "This is the 8th iteration\n",
            "This is the 9th iteration\n",
            "This is the 10th iteration\n",
            "We are now finished\n"
          ]
        }
      ]
    },
    {
      "cell_type": "code",
      "source": [
        "for i in range(1,6):\n",
        "  for j in range(1,11):\n",
        "    print(i*j,)"
      ],
      "metadata": {
        "colab": {
          "base_uri": "https://localhost:8080/"
        },
        "id": "_IATjsV1Crcz",
        "outputId": "adc5cbe1-626d-4ae6-aea2-fccaf44510e5"
      },
      "execution_count": null,
      "outputs": [
        {
          "output_type": "stream",
          "name": "stdout",
          "text": [
            "1\n",
            "2\n",
            "3\n",
            "4\n",
            "5\n",
            "6\n",
            "7\n",
            "8\n",
            "9\n",
            "10\n",
            "2\n",
            "4\n",
            "6\n",
            "8\n",
            "10\n",
            "12\n",
            "14\n",
            "16\n",
            "18\n",
            "20\n",
            "3\n",
            "6\n",
            "9\n",
            "12\n",
            "15\n",
            "18\n",
            "21\n",
            "24\n",
            "27\n",
            "30\n",
            "4\n",
            "8\n",
            "12\n",
            "16\n",
            "20\n",
            "24\n",
            "28\n",
            "32\n",
            "36\n",
            "40\n",
            "5\n",
            "10\n",
            "15\n",
            "20\n",
            "25\n",
            "30\n",
            "35\n",
            "40\n",
            "45\n",
            "50\n"
          ]
        }
      ]
    },
    {
      "cell_type": "code",
      "source": [
        "colours = [\"Blue\", \"Red\", \"Yellow\", \"Grey\"]\n",
        "cars = [\"Ford\", \"BMW\", \"Mercedes\", \"Bentley\"]\n",
        "\n",
        "for colour in colours:\n",
        "  for car in cars:\n",
        "    print(\"I have a\",colour, car)"
      ],
      "metadata": {
        "colab": {
          "base_uri": "https://localhost:8080/"
        },
        "id": "7rhVvertNpmR",
        "outputId": "0f9fae04-02ba-44e3-fc83-ea578d66e945"
      },
      "execution_count": null,
      "outputs": [
        {
          "output_type": "stream",
          "name": "stdout",
          "text": [
            "I have a Blue Ford\n",
            "I have a Blue BMW\n",
            "I have a Blue Mercedes\n",
            "I have a Blue Bentley\n",
            "I have a Red Ford\n",
            "I have a Red BMW\n",
            "I have a Red Mercedes\n",
            "I have a Red Bentley\n",
            "I have a Yellow Ford\n",
            "I have a Yellow BMW\n",
            "I have a Yellow Mercedes\n",
            "I have a Yellow Bentley\n",
            "I have a Grey Ford\n",
            "I have a Grey BMW\n",
            "I have a Grey Mercedes\n",
            "I have a Grey Bentley\n"
          ]
        }
      ]
    },
    {
      "cell_type": "code",
      "source": [
        "numbers = range(0,101)\n",
        "\n",
        "for number in numbers:\n",
        "  if number%2 == 0:\n",
        "    print(number, \"is an even number\")\n",
        "  else:\n",
        "    print(number, \"is an odd number\")  "
      ],
      "metadata": {
        "colab": {
          "base_uri": "https://localhost:8080/"
        },
        "id": "ewVvhdxiRjFW",
        "outputId": "1bd5c9ab-c28e-4af6-c1af-aed04e0c8467"
      },
      "execution_count": null,
      "outputs": [
        {
          "output_type": "stream",
          "name": "stdout",
          "text": [
            "0 is an even number\n",
            "1 is an odd number\n",
            "2 is an even number\n",
            "3 is an odd number\n",
            "4 is an even number\n",
            "5 is an odd number\n",
            "6 is an even number\n",
            "7 is an odd number\n",
            "8 is an even number\n",
            "9 is an odd number\n",
            "10 is an even number\n",
            "11 is an odd number\n",
            "12 is an even number\n",
            "13 is an odd number\n",
            "14 is an even number\n",
            "15 is an odd number\n",
            "16 is an even number\n",
            "17 is an odd number\n",
            "18 is an even number\n",
            "19 is an odd number\n",
            "20 is an even number\n",
            "21 is an odd number\n",
            "22 is an even number\n",
            "23 is an odd number\n",
            "24 is an even number\n",
            "25 is an odd number\n",
            "26 is an even number\n",
            "27 is an odd number\n",
            "28 is an even number\n",
            "29 is an odd number\n",
            "30 is an even number\n",
            "31 is an odd number\n",
            "32 is an even number\n",
            "33 is an odd number\n",
            "34 is an even number\n",
            "35 is an odd number\n",
            "36 is an even number\n",
            "37 is an odd number\n",
            "38 is an even number\n",
            "39 is an odd number\n",
            "40 is an even number\n",
            "41 is an odd number\n",
            "42 is an even number\n",
            "43 is an odd number\n",
            "44 is an even number\n",
            "45 is an odd number\n",
            "46 is an even number\n",
            "47 is an odd number\n",
            "48 is an even number\n",
            "49 is an odd number\n",
            "50 is an even number\n",
            "51 is an odd number\n",
            "52 is an even number\n",
            "53 is an odd number\n",
            "54 is an even number\n",
            "55 is an odd number\n",
            "56 is an even number\n",
            "57 is an odd number\n",
            "58 is an even number\n",
            "59 is an odd number\n",
            "60 is an even number\n",
            "61 is an odd number\n",
            "62 is an even number\n",
            "63 is an odd number\n",
            "64 is an even number\n",
            "65 is an odd number\n",
            "66 is an even number\n",
            "67 is an odd number\n",
            "68 is an even number\n",
            "69 is an odd number\n",
            "70 is an even number\n",
            "71 is an odd number\n",
            "72 is an even number\n",
            "73 is an odd number\n",
            "74 is an even number\n",
            "75 is an odd number\n",
            "76 is an even number\n",
            "77 is an odd number\n",
            "78 is an even number\n",
            "79 is an odd number\n",
            "80 is an even number\n",
            "81 is an odd number\n",
            "82 is an even number\n",
            "83 is an odd number\n",
            "84 is an even number\n",
            "85 is an odd number\n",
            "86 is an even number\n",
            "87 is an odd number\n",
            "88 is an even number\n",
            "89 is an odd number\n",
            "90 is an even number\n",
            "91 is an odd number\n",
            "92 is an even number\n",
            "93 is an odd number\n",
            "94 is an even number\n",
            "95 is an odd number\n",
            "96 is an even number\n",
            "97 is an odd number\n",
            "98 is an even number\n",
            "99 is an odd number\n",
            "100 is an even number\n"
          ]
        }
      ]
    },
    {
      "cell_type": "code",
      "source": [
        "names = [\"Mohamed\", \"Muhammad\", \"Mo\", \"Bob\"]\n",
        "\n",
        "for name in names:\n",
        "  if name == \"Bob\":\n",
        "    print(name, \"is an ugly name\")\n",
        "    continue\n",
        "  print(name, \"is a special name\")"
      ],
      "metadata": {
        "colab": {
          "base_uri": "https://localhost:8080/"
        },
        "id": "VOD-Hz3oVdCf",
        "outputId": "b7f3d666-3318-4bda-f700-57638a2e1440"
      },
      "execution_count": null,
      "outputs": [
        {
          "output_type": "stream",
          "name": "stdout",
          "text": [
            "Mohamed is a special name\n",
            "Muhammad is a special name\n",
            "Mo is a special name\n",
            "Bob is an ugly name\n"
          ]
        }
      ]
    },
    {
      "cell_type": "code",
      "source": [
        "Register = [\"Mohamed\", \"Sean\", \"Moses\", \"Bob\", \"Harry\", \"Kwaku\", \"David\", \"Stephanie\", \"Rhea\", \"Emma\"]\n",
        "Attended = [\"Mohamed\", \"Sean\", \"Moses\", \"Bob\", \"Kwaku\", \"David\", \"Rhea\", \"Emma\"]\n",
        "for name in Register:\n",
        "  if name in Attended:\n",
        "    print(name, \"is in today\")\n",
        "  else:\n",
        "    print(name, \"is not in today\")\n",
        "\n",
        "no_attendence = [name for name in Register if name not in Attended]\n",
        "\n",
        "extension = [\"Hamza\", \"Ruby\", \"Rhea K\"] # 3 PEOPLE ADDED TO REGISTER\n",
        "Register.extend(extension)\n",
        "Attended.extend(extension)\n",
        "\n",
        "for name in Register:\n",
        "  if name in Attended:\n",
        "    print(name, \"is in today\")\n",
        "  else:\n",
        "    print(name, \"is not in today\")\n",
        "\n",
        "no_attendence = [name for name in Register if name not in Attended]\n",
        "no_attendence\n"
      ],
      "metadata": {
        "colab": {
          "base_uri": "https://localhost:8080/"
        },
        "id": "nEJ1UnTObWVX",
        "outputId": "e6aa0fbe-b77b-407b-e01a-9c61a92f78d2"
      },
      "execution_count": null,
      "outputs": [
        {
          "output_type": "stream",
          "name": "stdout",
          "text": [
            "Mohamed is in today\n",
            "Sean is in today\n",
            "Moses is in today\n",
            "Bob is in today\n",
            "Harry is not in today\n",
            "Kwaku is in today\n",
            "David is in today\n",
            "Stephanie is not in today\n",
            "Rhea is in today\n",
            "Emma is in today\n",
            "Mohamed is in today\n",
            "Sean is in today\n",
            "Moses is in today\n",
            "Bob is in today\n",
            "Harry is not in today\n",
            "Kwaku is in today\n",
            "David is in today\n",
            "Stephanie is not in today\n",
            "Rhea is in today\n",
            "Emma is in today\n",
            "Hamza is in today\n",
            "Ruby is in today\n",
            "Rhea K is in today\n"
          ]
        },
        {
          "output_type": "execute_result",
          "data": {
            "text/plain": [
              "['Harry', 'Stephanie']"
            ]
          },
          "metadata": {},
          "execution_count": 118
        }
      ]
    },
    {
      "cell_type": "code",
      "source": [
        " "
      ],
      "metadata": {
        "id": "6jOq5vy6kaW1"
      },
      "execution_count": null,
      "outputs": []
    },
    {
      "cell_type": "code",
      "source": [
        "Tech_companies = [\"Facebook\", \"Tiktok\", \"Google\"]\n",
        "more = [\"Youtube\", \"Capgemini\", \"IBM\", \"Google\", \"Twitter\",\"Facebook\", \"EY\", \"FDM\", \"Avado\"]\n",
        "for company in more:\n",
        "  if company in Tech_companies:\n",
        "    print(\"Yes, I already wrote {} down\".format(company))\n",
        "  else:\n",
        "    print(\"I did not have {} written down\".format(company))\n",
        "    Tech_companies.append(company)\n",
        "\n",
        "Tech_companies\n",
        "\n",
        "extra = input(\"Please input tech company name(Capitalised)\")\n",
        "if extra in Tech_companies:\n",
        "  print(\"Yes, I already wrote {} down\".format(extra))\n",
        "else:\n",
        "  print(\"I did not have {} written down\".format(extra))\n",
        "  Tech_companies.append(extra)\n"
      ],
      "metadata": {
        "colab": {
          "base_uri": "https://localhost:8080/"
        },
        "id": "vZltjljljWm4",
        "outputId": "2a30f892-951f-4af4-c973-789fe82e58a4"
      },
      "execution_count": null,
      "outputs": [
        {
          "output_type": "stream",
          "name": "stdout",
          "text": [
            "I did not have Youtube written down\n",
            "I did not have Capgemini written down\n",
            "I did not have IBM written down\n",
            "Yes, I already wrote Google down\n",
            "I did not have Twitter written down\n",
            "Yes, I already wrote Facebook down\n",
            "I did not have EY written down\n",
            "I did not have FDM written down\n",
            "I did not have Avado written down\n",
            "Please input tech company name(Capitalised)Meta\n",
            "I did not have Meta written down\n"
          ]
        }
      ]
    },
    {
      "cell_type": "markdown",
      "source": [],
      "metadata": {
        "id": "9SKJA9V9t9wP"
      }
    },
    {
      "cell_type": "code",
      "source": [
        "for element in range(len(Tech_companies)):\n",
        "  print(element, Tech_companies[element])"
      ],
      "metadata": {
        "colab": {
          "base_uri": "https://localhost:8080/"
        },
        "id": "O2_7IuYitnSb",
        "outputId": "bbc26ad2-1a2d-4f69-d465-b1e006902076"
      },
      "execution_count": null,
      "outputs": [
        {
          "output_type": "stream",
          "name": "stdout",
          "text": [
            "0 Facebook\n",
            "1 Tiktok\n",
            "2 Google\n",
            "3 Youtube\n",
            "4 Capgemini\n",
            "5 IBM\n",
            "6 Twitter\n",
            "7 EY\n",
            "8 FDM\n",
            "9 Avado\n",
            "10 Meta\n"
          ]
        }
      ]
    },
    {
      "cell_type": "code",
      "source": [
        "string = \"Python\"\n",
        "\n",
        "letters =[letter.upper() for letter in string]\n",
        "print(letters)"
      ],
      "metadata": {
        "colab": {
          "base_uri": "https://localhost:8080/"
        },
        "id": "tU6vKtczvJo2",
        "outputId": "f4dc249d-c2bf-42cb-e313-b05216bc4d44"
      },
      "execution_count": null,
      "outputs": [
        {
          "output_type": "stream",
          "name": "stdout",
          "text": [
            "['P', 'Y', 'T', 'H', 'O', 'N']\n"
          ]
        }
      ]
    },
    {
      "cell_type": "code",
      "source": [
        "mydict = {\"Employee\": \"Mohamed\",\"Salary\":30000, \"department\":\"sales\"} \n",
        "print(mydict)"
      ],
      "metadata": {
        "colab": {
          "base_uri": "https://localhost:8080/"
        },
        "id": "BszlaeKSw3eQ",
        "outputId": "c5cb70f6-e1df-4dc1-bf1b-b4671189c244"
      },
      "execution_count": null,
      "outputs": [
        {
          "output_type": "stream",
          "name": "stdout",
          "text": [
            "{'Employee': 'Mohamed', 'Salary': 30000, 'department': 'sales'}\n"
          ]
        }
      ]
    },
    {
      "cell_type": "code",
      "source": [
        "mydict.update({\"Salary\":50000, \"level\": 5})\n",
        "\n",
        "print(mydict)"
      ],
      "metadata": {
        "colab": {
          "base_uri": "https://localhost:8080/"
        },
        "id": "VHGV2lvGzQKv",
        "outputId": "f64cfcf9-7ef8-4853-dc0a-9250be0e78e6"
      },
      "execution_count": null,
      "outputs": [
        {
          "output_type": "stream",
          "name": "stdout",
          "text": [
            "{'Employee': 'Mohamed', 'Salary': 50000, 'department': 'sales', 'level': 5}\n"
          ]
        }
      ]
    },
    {
      "cell_type": "code",
      "source": [
        "mytuple = (\"Samsung\", \"Apple\", \"Google\") #immutable lists\n",
        "print(mytuple)\n",
        "\n",
        "a_list = list(mytuple)\n",
        "a_list[2] = \"Huwaei\"\n",
        "mytuple = a_list\n",
        "print(mytuple)"
      ],
      "metadata": {
        "colab": {
          "base_uri": "https://localhost:8080/"
        },
        "id": "sFbUvjR104UB",
        "outputId": "6eb3fa0f-7aa0-4000-b9ac-272a513ecd7e"
      },
      "execution_count": null,
      "outputs": [
        {
          "output_type": "stream",
          "name": "stdout",
          "text": [
            "('Samsung', 'Apple', 'Google')\n",
            "['Samsung', 'Apple', 'Huwaei']\n"
          ]
        }
      ]
    },
    {
      "cell_type": "markdown",
      "source": [],
      "metadata": {
        "id": "fcW79CLsb7a9"
      }
    }
  ]
}
